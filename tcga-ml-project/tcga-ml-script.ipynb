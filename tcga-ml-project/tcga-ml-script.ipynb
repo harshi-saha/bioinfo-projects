{
 "cells": [
  {
   "cell_type": "markdown",
   "id": "03d669fe",
   "metadata": {},
   "source": [
    "**Relevant Information:**\n",
    "- [kaggle dataset link](https://www.kaggle.com/datasets/samdemharter/brca-multiomics-tcga?resource=download)\n",
    "- [data cleaning methods](https://rbabaei82.github.io/MultiOmics_TCGA-BRCA/Analysis)\n",
    "\n",
    "There are 705 breast cancer samples. The dataset contains four different omics data types (1936 features in total).\n",
    "- cn: copy number variations (n=860)\n",
    "- mu: mutations (n=249)\n",
    "- rs: gene expression (n=604)\n",
    "- pp: protein levels (n=223)\n",
    "\n",
    "Pertinent Questions:\n",
    "- What type of multi-omics prediction models can we build?\n",
    "- Where are the strengths/weaknesses of different methods?\n",
    "- Can we show why it is meaningful to integrate different data types?"
   ]
  },
  {
   "cell_type": "code",
   "execution_count": 1,
   "id": "f0a64d1f",
   "metadata": {},
   "outputs": [],
   "source": [
    "import numpy as np\n",
    "import pandas as pd"
   ]
  },
  {
   "cell_type": "code",
   "execution_count": 2,
   "id": "c687bcc3",
   "metadata": {},
   "outputs": [
    {
     "data": {
      "text/html": [
       "<div>\n",
       "<style scoped>\n",
       "    .dataframe tbody tr th:only-of-type {\n",
       "        vertical-align: middle;\n",
       "    }\n",
       "\n",
       "    .dataframe tbody tr th {\n",
       "        vertical-align: top;\n",
       "    }\n",
       "\n",
       "    .dataframe thead th {\n",
       "        text-align: right;\n",
       "    }\n",
       "</style>\n",
       "<table border=\"1\" class=\"dataframe\">\n",
       "  <thead>\n",
       "    <tr style=\"text-align: right;\">\n",
       "      <th></th>\n",
       "      <th>rs_CLEC3A</th>\n",
       "      <th>rs_CPB1</th>\n",
       "      <th>rs_SCGB2A2</th>\n",
       "      <th>rs_SCGB1D2</th>\n",
       "      <th>rs_TFF1</th>\n",
       "      <th>rs_MUCL1</th>\n",
       "      <th>rs_GSTM1</th>\n",
       "      <th>rs_PIP</th>\n",
       "      <th>rs_ADIPOQ</th>\n",
       "      <th>rs_ADH1B</th>\n",
       "      <th>...</th>\n",
       "      <th>pp_p62.LCK.ligand</th>\n",
       "      <th>pp_p70S6K</th>\n",
       "      <th>pp_p70S6K.pT389</th>\n",
       "      <th>pp_p90RSK</th>\n",
       "      <th>pp_p90RSK.pT359.S363</th>\n",
       "      <th>vital.status</th>\n",
       "      <th>PR.Status</th>\n",
       "      <th>ER.Status</th>\n",
       "      <th>HER2.Final.Status</th>\n",
       "      <th>histological.type</th>\n",
       "    </tr>\n",
       "  </thead>\n",
       "  <tbody>\n",
       "    <tr>\n",
       "      <th>0</th>\n",
       "      <td>0.892818</td>\n",
       "      <td>6.580103</td>\n",
       "      <td>14.123672</td>\n",
       "      <td>10.606501</td>\n",
       "      <td>13.189237</td>\n",
       "      <td>6.649466</td>\n",
       "      <td>10.520335</td>\n",
       "      <td>10.338490</td>\n",
       "      <td>10.248379</td>\n",
       "      <td>10.229970</td>\n",
       "      <td>...</td>\n",
       "      <td>-0.691766</td>\n",
       "      <td>-0.337863</td>\n",
       "      <td>-0.178503</td>\n",
       "      <td>0.011638</td>\n",
       "      <td>-0.207257</td>\n",
       "      <td>0</td>\n",
       "      <td>Positive</td>\n",
       "      <td>Positive</td>\n",
       "      <td>Negative</td>\n",
       "      <td>infiltrating ductal carcinoma</td>\n",
       "    </tr>\n",
       "    <tr>\n",
       "      <th>1</th>\n",
       "      <td>0.000000</td>\n",
       "      <td>3.691311</td>\n",
       "      <td>17.116090</td>\n",
       "      <td>15.517231</td>\n",
       "      <td>9.867616</td>\n",
       "      <td>9.691667</td>\n",
       "      <td>8.179522</td>\n",
       "      <td>7.911723</td>\n",
       "      <td>1.289598</td>\n",
       "      <td>1.818891</td>\n",
       "      <td>...</td>\n",
       "      <td>0.279067</td>\n",
       "      <td>0.292925</td>\n",
       "      <td>-0.155242</td>\n",
       "      <td>-0.089365</td>\n",
       "      <td>0.267530</td>\n",
       "      <td>0</td>\n",
       "      <td>Positive</td>\n",
       "      <td>Negative</td>\n",
       "      <td>Negative</td>\n",
       "      <td>infiltrating ductal carcinoma</td>\n",
       "    </tr>\n",
       "    <tr>\n",
       "      <th>2</th>\n",
       "      <td>3.748150</td>\n",
       "      <td>4.375255</td>\n",
       "      <td>9.658123</td>\n",
       "      <td>5.326983</td>\n",
       "      <td>12.109539</td>\n",
       "      <td>11.644307</td>\n",
       "      <td>10.517330</td>\n",
       "      <td>5.114925</td>\n",
       "      <td>11.975349</td>\n",
       "      <td>11.911437</td>\n",
       "      <td>...</td>\n",
       "      <td>0.219910</td>\n",
       "      <td>0.308110</td>\n",
       "      <td>-0.190794</td>\n",
       "      <td>-0.222150</td>\n",
       "      <td>-0.198518</td>\n",
       "      <td>0</td>\n",
       "      <td>Positive</td>\n",
       "      <td>Positive</td>\n",
       "      <td>Negative</td>\n",
       "      <td>infiltrating ductal carcinoma</td>\n",
       "    </tr>\n",
       "    <tr>\n",
       "      <th>3</th>\n",
       "      <td>0.000000</td>\n",
       "      <td>18.235519</td>\n",
       "      <td>18.535480</td>\n",
       "      <td>14.533584</td>\n",
       "      <td>14.078992</td>\n",
       "      <td>8.913760</td>\n",
       "      <td>10.557465</td>\n",
       "      <td>13.304434</td>\n",
       "      <td>8.205059</td>\n",
       "      <td>9.211476</td>\n",
       "      <td>...</td>\n",
       "      <td>-0.266554</td>\n",
       "      <td>-0.079871</td>\n",
       "      <td>-0.463237</td>\n",
       "      <td>0.522998</td>\n",
       "      <td>-0.046902</td>\n",
       "      <td>0</td>\n",
       "      <td>Positive</td>\n",
       "      <td>Positive</td>\n",
       "      <td>Negative</td>\n",
       "      <td>infiltrating ductal carcinoma</td>\n",
       "    </tr>\n",
       "    <tr>\n",
       "      <th>4</th>\n",
       "      <td>0.000000</td>\n",
       "      <td>4.583724</td>\n",
       "      <td>15.711865</td>\n",
       "      <td>12.804521</td>\n",
       "      <td>8.881669</td>\n",
       "      <td>8.430028</td>\n",
       "      <td>12.964607</td>\n",
       "      <td>6.806517</td>\n",
       "      <td>4.294341</td>\n",
       "      <td>5.385714</td>\n",
       "      <td>...</td>\n",
       "      <td>-0.441542</td>\n",
       "      <td>-0.152317</td>\n",
       "      <td>0.511386</td>\n",
       "      <td>-0.096482</td>\n",
       "      <td>0.037473</td>\n",
       "      <td>0</td>\n",
       "      <td>Positive</td>\n",
       "      <td>Positive</td>\n",
       "      <td>Negative</td>\n",
       "      <td>infiltrating ductal carcinoma</td>\n",
       "    </tr>\n",
       "  </tbody>\n",
       "</table>\n",
       "<p>5 rows × 1941 columns</p>\n",
       "</div>"
      ],
      "text/plain": [
       "   rs_CLEC3A    rs_CPB1  rs_SCGB2A2  rs_SCGB1D2    rs_TFF1   rs_MUCL1  \\\n",
       "0   0.892818   6.580103   14.123672   10.606501  13.189237   6.649466   \n",
       "1   0.000000   3.691311   17.116090   15.517231   9.867616   9.691667   \n",
       "2   3.748150   4.375255    9.658123    5.326983  12.109539  11.644307   \n",
       "3   0.000000  18.235519   18.535480   14.533584  14.078992   8.913760   \n",
       "4   0.000000   4.583724   15.711865   12.804521   8.881669   8.430028   \n",
       "\n",
       "    rs_GSTM1     rs_PIP  rs_ADIPOQ   rs_ADH1B  ...  pp_p62.LCK.ligand  \\\n",
       "0  10.520335  10.338490  10.248379  10.229970  ...          -0.691766   \n",
       "1   8.179522   7.911723   1.289598   1.818891  ...           0.279067   \n",
       "2  10.517330   5.114925  11.975349  11.911437  ...           0.219910   \n",
       "3  10.557465  13.304434   8.205059   9.211476  ...          -0.266554   \n",
       "4  12.964607   6.806517   4.294341   5.385714  ...          -0.441542   \n",
       "\n",
       "   pp_p70S6K  pp_p70S6K.pT389  pp_p90RSK  pp_p90RSK.pT359.S363  vital.status  \\\n",
       "0  -0.337863        -0.178503   0.011638             -0.207257             0   \n",
       "1   0.292925        -0.155242  -0.089365              0.267530             0   \n",
       "2   0.308110        -0.190794  -0.222150             -0.198518             0   \n",
       "3  -0.079871        -0.463237   0.522998             -0.046902             0   \n",
       "4  -0.152317         0.511386  -0.096482              0.037473             0   \n",
       "\n",
       "   PR.Status  ER.Status  HER2.Final.Status              histological.type  \n",
       "0   Positive   Positive           Negative  infiltrating ductal carcinoma  \n",
       "1   Positive   Negative           Negative  infiltrating ductal carcinoma  \n",
       "2   Positive   Positive           Negative  infiltrating ductal carcinoma  \n",
       "3   Positive   Positive           Negative  infiltrating ductal carcinoma  \n",
       "4   Positive   Positive           Negative  infiltrating ductal carcinoma  \n",
       "\n",
       "[5 rows x 1941 columns]"
      ]
     },
     "execution_count": 2,
     "metadata": {},
     "output_type": "execute_result"
    }
   ],
   "source": [
    "brca_df = pd.read_csv(\"brca_data_w_subtypes.csv\")\n",
    "brca_df.head()"
   ]
  },
  {
   "cell_type": "code",
   "execution_count": 28,
   "id": "c0ec8be7",
   "metadata": {},
   "outputs": [
    {
     "data": {
      "text/plain": [
       "rs_CLEC3A              0\n",
       "rs_CPB1                0\n",
       "rs_SCGB2A2             0\n",
       "rs_SCGB1D2             0\n",
       "rs_TFF1                0\n",
       "                    ... \n",
       "vital.status           0\n",
       "PR.Status            122\n",
       "ER.Status            122\n",
       "HER2.Final.Status    145\n",
       "histological.type      0\n",
       "Length: 1941, dtype: int64"
      ]
     },
     "execution_count": 28,
     "metadata": {},
     "output_type": "execute_result"
    }
   ],
   "source": [
    "brca_df.isna().sum()"
   ]
  },
  {
   "cell_type": "code",
   "execution_count": 7,
   "id": "db3aba6f",
   "metadata": {},
   "outputs": [
    {
     "data": {
      "text/plain": [
       "histological.type\n",
       "infiltrating ductal carcinoma     574\n",
       "infiltrating lobular carcinoma    131\n",
       "Name: vital.status, dtype: int64"
      ]
     },
     "execution_count": 7,
     "metadata": {},
     "output_type": "execute_result"
    }
   ],
   "source": [
    "brca_df.groupby(\"histological.type\").count()[\"vital.status\"]"
   ]
  },
  {
   "cell_type": "code",
   "execution_count": 29,
   "id": "dd0f182c",
   "metadata": {},
   "outputs": [
    {
     "data": {
      "text/plain": [
       "vital.status\n",
       "0    611\n",
       "1     94\n",
       "Name: histological.type, dtype: int64"
      ]
     },
     "execution_count": 29,
     "metadata": {},
     "output_type": "execute_result"
    }
   ],
   "source": [
    "brca_df.groupby(\"vital.status\").count()[\"histological.type\"]"
   ]
  },
  {
   "cell_type": "code",
   "execution_count": 31,
   "id": "7d958828",
   "metadata": {},
   "outputs": [
    {
     "data": {
      "text/plain": [
       "PR.Status\n",
       "Indeterminate                    4\n",
       "Negative                       193\n",
       "Not Performed                   28\n",
       "Performed but Not Available      5\n",
       "Positive                       353\n",
       "Name: histological.type, dtype: int64"
      ]
     },
     "execution_count": 31,
     "metadata": {},
     "output_type": "execute_result"
    }
   ],
   "source": [
    "brca_df.groupby(\"PR.Status\").count()[\"histological.type\"]"
   ]
  },
  {
   "cell_type": "code",
   "execution_count": 32,
   "id": "407c523c",
   "metadata": {},
   "outputs": [
    {
     "data": {
      "text/plain": [
       "ER.Status\n",
       "Indeterminate                    2\n",
       "Negative                       135\n",
       "Not Performed                   27\n",
       "Performed but Not Available      5\n",
       "Positive                       414\n",
       "Name: histological.type, dtype: int64"
      ]
     },
     "execution_count": 32,
     "metadata": {},
     "output_type": "execute_result"
    }
   ],
   "source": [
    "brca_df.groupby(\"ER.Status\").count()[\"histological.type\"]"
   ]
  },
  {
   "cell_type": "code",
   "execution_count": 33,
   "id": "96025ffb",
   "metadata": {},
   "outputs": [
    {
     "data": {
      "text/plain": [
       "HER2.Final.Status\n",
       "Equivocal          9\n",
       "Negative         457\n",
       "Not Available      8\n",
       "Positive          86\n",
       "Name: histological.type, dtype: int64"
      ]
     },
     "execution_count": 33,
     "metadata": {},
     "output_type": "execute_result"
    }
   ],
   "source": [
    "brca_df.groupby(\"HER2.Final.Status\").count()[\"histological.type\"]"
   ]
  },
  {
   "cell_type": "code",
   "execution_count": 54,
   "id": "05bce02c",
   "metadata": {},
   "outputs": [],
   "source": [
    "label = []\n",
    "for i in np.arange(brca_df.shape[0]):\n",
    "    temp = brca_df.iloc[i][[\"PR.Status\", \"ER.Status\", \"HER2.Final.Status\"]].str.lower().tolist()\n",
    "    if temp == [\"positive\", \"positive\", \"negative\"]:\n",
    "        label.append(\"luminal_a\")\n",
    "    elif temp == [\"positive\", \"positive\", \"positive\"]:\n",
    "        label.append(\"luminal_b\")\n",
    "    elif temp == [\"negative\", \"negative\", \"positive\"]:\n",
    "        label.append(\"her2pos\")\n",
    "    elif temp == [\"negative\", \"negative\", \"negative\"]:\n",
    "        label.append(\"basal_like\") \n",
    "    else:\n",
    "        label.append(\"unclassified\")\n",
    "brca_df[\"label\"] = label"
   ]
  },
  {
   "cell_type": "code",
   "execution_count": 55,
   "id": "11016f9d",
   "metadata": {},
   "outputs": [
    {
     "data": {
      "text/plain": [
       "luminal_a       279\n",
       "unclassified    268\n",
       "basal_like       90\n",
       "luminal_b        43\n",
       "her2pos          25\n",
       "Name: label, dtype: int64"
      ]
     },
     "execution_count": 55,
     "metadata": {},
     "output_type": "execute_result"
    }
   ],
   "source": [
    "brca_df[\"label\"].value_counts()"
   ]
  },
  {
   "cell_type": "code",
   "execution_count": 18,
   "id": "fc5dbadc",
   "metadata": {},
   "outputs": [],
   "source": [
    "cn_df = brca_df[[i for i in brca_df.columns if (i[0]=='c') and (i[1]=='n')]].copy()\n",
    "mu_df = brca_df[[i for i in brca_df.columns if (i[0]=='m') and (i[1]=='u')]].copy()\n",
    "rs_df = brca_df[[i for i in brca_df.columns if (i[0]=='r') and (i[1]=='s')]].copy()\n",
    "pp_df = brca_df[[i for i in brca_df.columns if (i[0]=='p') and (i[1]=='p')]].copy()"
   ]
  },
  {
   "cell_type": "code",
   "execution_count": 19,
   "id": "fe4ae89f",
   "metadata": {},
   "outputs": [
    {
     "name": "stdout",
     "output_type": "stream",
     "text": [
      "862\n",
      "251\n",
      "606\n",
      "225\n"
     ]
    }
   ],
   "source": [
    "for i in [cn_df, mu_df, rs_df , pp_df]:\n",
    "    i[\"vital,status\"] = brca_df[\"vital.status\"]\n",
    "    i[\"histological.type\"] = brca_df[\"histological.type\"]\n",
    "    print(len(i.columns))"
   ]
  },
  {
   "cell_type": "code",
   "execution_count": null,
   "id": "c3be9a55",
   "metadata": {},
   "outputs": [],
   "source": []
  },
  {
   "cell_type": "code",
   "execution_count": null,
   "id": "4bb8714d",
   "metadata": {},
   "outputs": [],
   "source": []
  }
 ],
 "metadata": {
  "kernelspec": {
   "display_name": "Python 3 (ipykernel)",
   "language": "python",
   "name": "python3"
  },
  "language_info": {
   "codemirror_mode": {
    "name": "ipython",
    "version": 3
   },
   "file_extension": ".py",
   "mimetype": "text/x-python",
   "name": "python",
   "nbconvert_exporter": "python",
   "pygments_lexer": "ipython3",
   "version": "3.8.17"
  }
 },
 "nbformat": 4,
 "nbformat_minor": 5
}
